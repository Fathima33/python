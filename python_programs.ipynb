{
  "nbformat": 4,
  "nbformat_minor": 0,
  "metadata": {
    "colab": {
      "provenance": [],
      "authorship_tag": "ABX9TyPiWMs9K2u9Lu0lalX6KDZs",
      "include_colab_link": true
    },
    "kernelspec": {
      "name": "python3",
      "display_name": "Python 3"
    },
    "language_info": {
      "name": "python"
    }
  },
  "cells": [
    {
      "cell_type": "markdown",
      "metadata": {
        "id": "view-in-github",
        "colab_type": "text"
      },
      "source": [
        "<a href=\"https://colab.research.google.com/github/Fathima33/python/blob/main/python_programs.ipynb\" target=\"_parent\"><img src=\"https://colab.research.google.com/assets/colab-badge.svg\" alt=\"Open In Colab\"/></a>"
      ]
    },
    {
      "cell_type": "markdown",
      "source": [
        "to reverse a given number"
      ],
      "metadata": {
        "id": "6cadKV08-CjW"
      }
    },
    {
      "cell_type": "code",
      "execution_count": null,
      "metadata": {
        "colab": {
          "base_uri": "https://localhost:8080/"
        },
        "id": "feVFwl5K9OQk",
        "outputId": "eaf4dfa2-7f9e-48e2-c014-3bda3cb22f29"
      },
      "outputs": [
        {
          "output_type": "stream",
          "name": "stdout",
          "text": [
            "enter number12\n",
            "Reverse of a given number 21\n"
          ]
        }
      ],
      "source": [
        "n=int(input(\"enter number\"))\n",
        "strn=str(n)\n",
        "res=(int(strn[::-1]))\n",
        "print(f\"Reverse of a given number {res}\")"
      ]
    },
    {
      "cell_type": "code",
      "source": [
        "#alternative way\n",
        "n=int(input(\"enter number\"))\n",
        "n2=n1=n\n",
        "sum=0\n",
        "while(n>0):\n",
        "  rem=n%10\n",
        "  n=n//10\n",
        "  sum=(sum*10)+rem\n",
        "print(f\"reverse of a given number {sum}\")"
      ],
      "metadata": {
        "colab": {
          "base_uri": "https://localhost:8080/"
        },
        "id": "mfG4G05t_Y6G",
        "outputId": "895a48de-0a17-4c6a-a546-700c1c15fc3b"
      },
      "execution_count": null,
      "outputs": [
        {
          "output_type": "stream",
          "name": "stdout",
          "text": [
            "enter number42213\n",
            "reverse of a given number 31224\n"
          ]
        }
      ]
    },
    {
      "cell_type": "markdown",
      "source": [
        "to check given number is armstrong or not"
      ],
      "metadata": {
        "id": "dSGyFNGrD1WQ"
      }
    },
    {
      "cell_type": "code",
      "source": [
        "from typing import MappingView\n",
        "n=int(input(\"enter number\"))\n",
        "temp=num=n\n",
        "count=len(str(n))\n",
        "sum=0\n",
        "main=0\n",
        "while(n>0):\n",
        "  rem=n%10\n",
        "  n=n//10\n",
        "  main=main+(rem**count)\n",
        "if(num==main):\n",
        "  print(f\"{temp} is armstrong number\")\n",
        "else:\n",
        "  print(f\"{temp} is not armstrong number\")\n",
        "\n"
      ],
      "metadata": {
        "colab": {
          "base_uri": "https://localhost:8080/"
        },
        "id": "wIvoch0NC5Hu",
        "outputId": "4003ff41-973b-4abd-f341-966557e13c00"
      },
      "execution_count": null,
      "outputs": [
        {
          "output_type": "stream",
          "name": "stdout",
          "text": [
            "enter number370\n",
            "370 is armstrong number\n"
          ]
        }
      ]
    },
    {
      "cell_type": "markdown",
      "source": [
        "write a python program to remove character from the string\n",
        "\n"
      ],
      "metadata": {
        "id": "FFjfMmJ8XLJq"
      }
    },
    {
      "cell_type": "code",
      "source": [
        "string=\"fathima\"\n",
        "s1=\"\"\n",
        "s=input(\"enter the character to remove\")\n",
        "for i in string:\n",
        "  if i==s:\n",
        "    continue\n",
        "  else:\n",
        "    s1+=i\n",
        "print(f\"After the removal of character: {s1}\")\n"
      ],
      "metadata": {
        "colab": {
          "base_uri": "https://localhost:8080/"
        },
        "id": "-BqogcGkU5Bb",
        "outputId": "3e9d0483-aa97-4093-e05c-e0b02ce7612b"
      },
      "execution_count": null,
      "outputs": [
        {
          "output_type": "stream",
          "name": "stdout",
          "text": [
            "enter the character to removea\n",
            "After the removal of character: fthim\n"
          ]
        }
      ]
    },
    {
      "cell_type": "markdown",
      "source": [
        "program to find the missing numbers in the array that contains the numbers 1 to 100"
      ],
      "metadata": {
        "id": "V3VJAkZ7YZ_M"
      }
    },
    {
      "cell_type": "code",
      "source": [
        "a=[1, 2, None, 4, 5, 6, None, 8, 9, 10, 11, None, 13, 14, 15, 16, 17, 18, 19, 20, 21, 22, 23, 24, 25, 26, 27, 28, 29, 30, 31, 32, 33, 34, 35, 36, 37, 38, 39, 40, 41, 42, 43, 44, None, 46, 47, 48, 49, 50, 51, 52, 53, 54, 55, 56, 57, 58, 59, 60, 61, 62, 63, 64, 65, 66, 67, 68, 69, 70, 71, 72, 73, 74, 75, 76, 77, 78, 79, 80, 81, 82, 83, 84, 85, 86, 87, 88, 89, 90, 91, 92, 93, 94, 95, 96, 97, 98, 99, 100]\n"
      ],
      "metadata": {
        "id": "b9omormiX9Wu"
      },
      "execution_count": null,
      "outputs": []
    },
    {
      "cell_type": "code",
      "source": [
        "m,n=[],[]\n",
        "for i in range(1,101):\n",
        "  if i==a[i-1]:\n",
        "    n.append(i)\n",
        "  else:\n",
        "    m.append(i)\n",
        "print(f\"Numbers absent in the array {m}\")"
      ],
      "metadata": {
        "colab": {
          "base_uri": "https://localhost:8080/"
        },
        "id": "DMtPoH_fbuAR",
        "outputId": "d747e505-4913-4af7-fa10-f4714da6c619"
      },
      "execution_count": null,
      "outputs": [
        {
          "output_type": "stream",
          "name": "stdout",
          "text": [
            "Numbers absent in the array [3, 7, 12, 45]\n"
          ]
        }
      ]
    },
    {
      "cell_type": "markdown",
      "source": [
        "to find whether the number is prime or not"
      ],
      "metadata": {
        "id": "PgzvjI5edpma"
      }
    },
    {
      "cell_type": "code",
      "source": [
        "n=int(input(\"Enter number\"))\n",
        "for i in range(2,n):\n",
        "  if(n%i==0):\n",
        "    print(f\"{n} is not prime\")\n",
        "    break\n",
        "else:\n",
        "  print(f\"{n} is  prime\")\n"
      ],
      "metadata": {
        "colab": {
          "base_uri": "https://localhost:8080/"
        },
        "id": "n-UQjOqSeaNF",
        "outputId": "decbd8bb-58af-4697-c883-d49f7b65d7ce"
      },
      "execution_count": null,
      "outputs": [
        {
          "output_type": "stream",
          "name": "stdout",
          "text": [
            "Enter number4\n",
            "4 is not prime\n"
          ]
        }
      ]
    },
    {
      "cell_type": "markdown",
      "source": [
        "python program to count occurence of given characters in string"
      ],
      "metadata": {
        "id": "ZjcpOuT-gw9-"
      }
    },
    {
      "cell_type": "code",
      "source": [
        "string=\"fathima\"\n",
        "from collections import Counter as c\n",
        "c(string)"
      ],
      "metadata": {
        "colab": {
          "base_uri": "https://localhost:8080/"
        },
        "id": "2_b39D-Egvsm",
        "outputId": "06c51129-03aa-4c53-db09-ce7a710e127a"
      },
      "execution_count": null,
      "outputs": [
        {
          "output_type": "execute_result",
          "data": {
            "text/plain": [
              "Counter({'f': 1, 'a': 2, 't': 1, 'h': 1, 'i': 1, 'm': 1})"
            ]
          },
          "metadata": {},
          "execution_count": 27
        }
      ]
    },
    {
      "cell_type": "code",
      "source": [
        "#alternative way without using function\n",
        "string=\"fathima\"\n",
        "count=0\n",
        "l=[]\n",
        "for i in string:\n",
        "  found=False\n",
        "  for j in l:\n",
        "    if i==j[0]:\n",
        "      j[1]+=1\n",
        "      found=True\n",
        "      break\n",
        "  else:\n",
        "      l.append([i,1])\n",
        "print(l)\n",
        ""
      ],
      "metadata": {
        "colab": {
          "base_uri": "https://localhost:8080/"
        },
        "id": "zNzlZPcYdMSr",
        "outputId": "94ad6720-52af-4214-e79e-2ab4a91f8f6e"
      },
      "execution_count": 9,
      "outputs": [
        {
          "output_type": "stream",
          "name": "stdout",
          "text": [
            "[['f', 1], ['a', 2], ['t', 1], ['h', 1], ['i', 1], ['m', 1]]\n"
          ]
        }
      ]
    },
    {
      "cell_type": "markdown",
      "source": [
        "to check two strings are anagram or not\n",
        "\n",
        "\n",
        "> two strings are said to be anagram if one string can be  formed by rearranging\n",
        "characters of another string\n",
        "\n",
        "\n"
      ],
      "metadata": {
        "id": "HVX5K1s7eFhn"
      }
    },
    {
      "cell_type": "code",
      "source": [
        "str1=input(\"enter the string 1\")\n",
        "str2=input(\"enter the string 2\")\n",
        "l=[]\n",
        "l1=[]\n",
        "for i in str1:\n",
        "  for j in l:\n",
        "    if j[0]==i:\n",
        "      j[1]+=1\n",
        "      break\n",
        "  else:\n",
        "    l.append([i,1])\n",
        "for k in str2:\n",
        "  for m in l1:\n",
        "    if m[0]==k:\n",
        "      m[1]+=1\n",
        "      break\n",
        "  else:\n",
        "    l1.append([k,1])\n",
        "print(sorted(l))\n",
        "print(sorted(l1))\n",
        "if sorted(l) == sorted(l1):\n",
        "    print(\"Anagram\")\n",
        "else:\n",
        "    print(\"Not an anagram\")"
      ],
      "metadata": {
        "colab": {
          "base_uri": "https://localhost:8080/"
        },
        "id": "7ugEAGRze1QV",
        "outputId": "d2115fb8-1017-47e7-a63e-4d138c47592c"
      },
      "execution_count": 25,
      "outputs": [
        {
          "output_type": "stream",
          "name": "stdout",
          "text": [
            "enter the string 1fathima\n",
            "enter the string 2fathim\n",
            "[['a', 2], ['f', 1], ['h', 1], ['i', 1], ['m', 1], ['t', 1]]\n",
            "[['a', 1], ['f', 1], ['h', 1], ['i', 1], ['m', 1], ['t', 1]]\n",
            "Not an anagram\n"
          ]
        }
      ]
    },
    {
      "cell_type": "markdown",
      "source": [
        "Write a program in Python for, How to find all pairs in array of integers whose sum is equal to given number."
      ],
      "metadata": {
        "id": "O5ueGB90ojnP"
      }
    },
    {
      "cell_type": "code",
      "source": [
        "l=[]\n",
        "pairs=[]\n",
        "num=int(input(\"enter how many numbers you need to add in the array\"))\n",
        "for i in range(0,n+1):\n",
        "  n=int(input(\"enter the number you want to add in the array\"))\n",
        "  l.append(n)\n",
        "t=int(input(\"enter target value\"))\n",
        "for i in range(len(l)-1):\n",
        "    for j in range(i + 1, len(l)):\n",
        "      if l[i] + l[j] == t:\n",
        "          pairs.append([l[i],l[j]])\n",
        "print(pairs)"
      ],
      "metadata": {
        "colab": {
          "base_uri": "https://localhost:8080/"
        },
        "id": "k_ol7AS_d2gT",
        "outputId": "e28a5ef5-1f05-4d54-ba8f-e07e5a332abe"
      },
      "execution_count": 30,
      "outputs": [
        {
          "output_type": "stream",
          "name": "stdout",
          "text": [
            "enter how many numbers you need to add in the array4\n",
            "enter the number you want to add in the array1\n",
            "enter the number you want to add in the array2\n",
            "enter the number you want to add in the array2\n",
            "enter target value4\n",
            "[[2, 2]]\n"
          ]
        }
      ]
    },
    {
      "cell_type": "markdown",
      "source": [
        "Python program to check given character is vowel or consonant"
      ],
      "metadata": {
        "id": "wTdW4uvWFBM0"
      }
    },
    {
      "cell_type": "code",
      "source": [
        "char=input(\"enter character\")\n",
        "charac=char.lower()\n",
        "if charac in [\"a\",\"e\",\"i\",\"o\",\"u\"]:\n",
        "  print(f\"Character you entered {char} is vowel\")\n",
        "else:\n",
        "    print(f\"Character you entered {char} is not vowel\")\n"
      ],
      "metadata": {
        "colab": {
          "base_uri": "https://localhost:8080/"
        },
        "id": "81grUb20ErR1",
        "outputId": "fe7f6af2-87fc-45fb-d9e2-3984a6258d1d"
      },
      "execution_count": 32,
      "outputs": [
        {
          "output_type": "stream",
          "name": "stdout",
          "text": [
            "enter characterA\n",
            "Character you entered A is vowel\n"
          ]
        }
      ]
    },
    {
      "cell_type": "markdown",
      "source": [
        "to check if two strings are palindrome or not"
      ],
      "metadata": {
        "id": "ouNi7JasGsJb"
      }
    },
    {
      "cell_type": "code",
      "source": [
        "str1=input(\"enter the string 1\")\n",
        "str2=input(\"enter the string 2\")\n",
        "str3=str2[::-1]\n",
        "if str1==str3:\n",
        "  print(\"palindrome\")\n",
        "else:\n",
        "  print(\"not palindrome\")"
      ],
      "metadata": {
        "colab": {
          "base_uri": "https://localhost:8080/"
        },
        "id": "MWhPoaRCGeUz",
        "outputId": "9578e194-0524-4e07-e6fd-60aed79d8bc7"
      },
      "execution_count": 33,
      "outputs": [
        {
          "output_type": "stream",
          "name": "stdout",
          "text": [
            "enter the string 1fathi\n",
            "enter the string 2ihtaf\n",
            "palindrome\n"
          ]
        }
      ]
    },
    {
      "cell_type": "markdown",
      "source": [
        " Write a program in Python to print the Fibonacci series using iterative method.\n",
        "\n",
        "\n",
        "\n"
      ],
      "metadata": {
        "id": "uD7AHHqtKnLo"
      }
    },
    {
      "cell_type": "code",
      "source": [
        "n=int(input(\"enter number\"))\n",
        "fact=1\n",
        "for i in range(1,n+1):\n",
        "  fact=fact*i\n",
        "print(f\"Factorial of a given number is {fact}\")\n"
      ],
      "metadata": {
        "colab": {
          "base_uri": "https://localhost:8080/"
        },
        "id": "Bf7yHigQKoQe",
        "outputId": "d4efe8ac-a9da-46a3-bc23-00197c10ca74"
      },
      "execution_count": 36,
      "outputs": [
        {
          "output_type": "stream",
          "name": "stdout",
          "text": [
            "enter number5\n",
            "Factorial of a given number is 120\n"
          ]
        }
      ]
    },
    {
      "cell_type": "markdown",
      "source": [
        " Write a program in Python to print the Fibonacci series using recursive method."
      ],
      "metadata": {
        "id": "GsMhZeA7QdB1"
      }
    },
    {
      "cell_type": "code",
      "source": [
        "def fact(n):\n",
        "  if n==0 or n==1:\n",
        "    return 1\n",
        "  else:\n",
        "    if n>0:\n",
        "      return n*fact(n-1)\n",
        "n=int(input(\"enter number\"))\n",
        "res=fact(n)\n",
        "print(f\"Factorial of a given number is {res}\")"
      ],
      "metadata": {
        "colab": {
          "base_uri": "https://localhost:8080/"
        },
        "id": "GmMVQRyqQcti",
        "outputId": "4d4fad1f-f92b-4dc2-b944-4cc494eaf880"
      },
      "execution_count": 37,
      "outputs": [
        {
          "output_type": "stream",
          "name": "stdout",
          "text": [
            "enter number5\n",
            "Factorial of a given number is 120\n"
          ]
        }
      ]
    }
  ]
}